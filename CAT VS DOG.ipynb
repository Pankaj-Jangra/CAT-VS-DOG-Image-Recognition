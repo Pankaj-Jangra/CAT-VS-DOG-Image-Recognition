{
 "cells": [
  {
   "cell_type": "code",
   "execution_count": 1,
   "metadata": {},
   "outputs": [
    {
     "name": "stderr",
     "output_type": "stream",
     "text": [
      "Using TensorFlow backend.\n"
     ]
    }
   ],
   "source": [
    "import tensorflow as tf\n",
    "from keras.preprocessing.image import ImageDataGenerator"
   ]
  },
  {
   "cell_type": "markdown",
   "metadata": {},
   "source": [
    "## Training data"
   ]
  },
  {
   "cell_type": "code",
   "execution_count": 2,
   "metadata": {},
   "outputs": [
    {
     "name": "stdout",
     "output_type": "stream",
     "text": [
      "Found 8000 images belonging to 2 classes.\n"
     ]
    }
   ],
   "source": [
    "train_datagen = ImageDataGenerator(rescale=1 / 255,\n",
    "                                    rotation_range=40,\n",
    "                                    shear_range=.2,\n",
    "                                    zoom_range=.2,\n",
    "                                    horizontal_flip=True,\n",
    "                                    fill_mode='nearest')\n",
    "\n",
    "training_set = train_datagen.flow_from_directory(r\"C:\\Users\\TOSHIBA\\Documents\\Practice\\Project to be updated on CV\\Cat Vs Dog\\dataset\\training_set\",# Path\n",
    "                                                 target_size = (64, 64),\n",
    "                                                 batch_size = 32,\n",
    "                                                 class_mode = 'binary')"
   ]
  },
  {
   "cell_type": "markdown",
   "metadata": {},
   "source": [
    "## Test Data"
   ]
  },
  {
   "cell_type": "code",
   "execution_count": 3,
   "metadata": {},
   "outputs": [
    {
     "name": "stdout",
     "output_type": "stream",
     "text": [
      "Found 2000 images belonging to 2 classes.\n"
     ]
    }
   ],
   "source": [
    "test_datagen = ImageDataGenerator(rescale = 1 /255)\n",
    "test_set = test_datagen.flow_from_directory('dataset/test_set',\n",
    "                                            target_size = (64, 64),\n",
    "                                            batch_size = 32,\n",
    "                                            class_mode = 'binary')"
   ]
  },
  {
   "cell_type": "code",
   "execution_count": 4,
   "metadata": {},
   "outputs": [],
   "source": [
    "cnn= tf.keras.Sequential([tf.keras.layers.Conv2D(32, kernel_size=(3,3), activation='relu', input_shape=[64, 64, 3]),\n",
    "                        tf.keras.layers.MaxPool2D(pool_size=2, strides=2),\n",
    "                        tf.keras.layers.Conv2D(32, kernel_size=(3,3), activation='relu'),\n",
    "                        tf.keras.layers.MaxPool2D(pool_size=2, strides=2),\n",
    "                        tf.keras.layers.Flatten(),\n",
    "                        tf.keras.layers.Dense(units=128, activation='relu'),\n",
    "                        tf.keras.layers.Dense(units=1, activation='sigmoid')])\n",
    "cnn.compile(optimizer = 'adam', loss = 'binary_crossentropy', metrics = ['accuracy'])"
   ]
  },
  {
   "cell_type": "code",
   "execution_count": 5,
   "metadata": {},
   "outputs": [
    {
     "name": "stdout",
     "output_type": "stream",
     "text": [
      "Epoch 1/25\n",
      "250/250 [==============================] - 85s 342ms/step - loss: 0.6873 - accuracy: 0.5584 - val_loss: 0.6569 - val_accuracy: 0.6280\n",
      "Epoch 2/25\n",
      "250/250 [==============================] - 74s 297ms/step - loss: 0.6405 - accuracy: 0.6359 - val_loss: 0.6085 - val_accuracy: 0.6670\n",
      "Epoch 3/25\n",
      "250/250 [==============================] - 74s 296ms/step - loss: 0.6063 - accuracy: 0.6674 - val_loss: 0.6054 - val_accuracy: 0.6820\n",
      "Epoch 4/25\n",
      "250/250 [==============================] - 75s 298ms/step - loss: 0.5823 - accuracy: 0.6926 - val_loss: 0.5563 - val_accuracy: 0.7195\n",
      "Epoch 5/25\n",
      "250/250 [==============================] - 76s 303ms/step - loss: 0.5562 - accuracy: 0.7184 - val_loss: 0.5276 - val_accuracy: 0.7505\n",
      "Epoch 6/25\n",
      "250/250 [==============================] - 74s 298ms/step - loss: 0.5392 - accuracy: 0.7251 - val_loss: 0.5519 - val_accuracy: 0.7240\n",
      "Epoch 7/25\n",
      "250/250 [==============================] - 74s 298ms/step - loss: 0.5336 - accuracy: 0.7319 - val_loss: 0.4999 - val_accuracy: 0.7585\n",
      "Epoch 8/25\n",
      "250/250 [==============================] - 77s 309ms/step - loss: 0.5073 - accuracy: 0.7500 - val_loss: 0.4997 - val_accuracy: 0.7560\n",
      "Epoch 9/25\n",
      "250/250 [==============================] - 75s 302ms/step - loss: 0.5038 - accuracy: 0.7521 - val_loss: 0.5001 - val_accuracy: 0.7580\n",
      "Epoch 10/25\n",
      "250/250 [==============================] - 74s 295ms/step - loss: 0.4956 - accuracy: 0.7571 - val_loss: 0.4906 - val_accuracy: 0.7625\n",
      "Epoch 11/25\n",
      "250/250 [==============================] - 86s 346ms/step - loss: 0.4876 - accuracy: 0.7601 - val_loss: 0.4866 - val_accuracy: 0.7650\n",
      "Epoch 12/25\n",
      "250/250 [==============================] - 74s 296ms/step - loss: 0.4819 - accuracy: 0.7715 - val_loss: 0.4778 - val_accuracy: 0.7745\n",
      "Epoch 13/25\n",
      "250/250 [==============================] - 85s 339ms/step - loss: 0.4769 - accuracy: 0.7713 - val_loss: 0.4638 - val_accuracy: 0.7815\n",
      "Epoch 14/25\n",
      "250/250 [==============================] - 84s 337ms/step - loss: 0.4593 - accuracy: 0.7821 - val_loss: 0.4804 - val_accuracy: 0.7710\n",
      "Epoch 15/25\n",
      "250/250 [==============================] - 75s 302ms/step - loss: 0.4616 - accuracy: 0.7803 - val_loss: 0.4583 - val_accuracy: 0.7805\n",
      "Epoch 16/25\n",
      "250/250 [==============================] - 75s 299ms/step - loss: 0.4491 - accuracy: 0.7851 - val_loss: 0.4503 - val_accuracy: 0.7905\n",
      "Epoch 17/25\n",
      "250/250 [==============================] - 75s 300ms/step - loss: 0.4492 - accuracy: 0.7872 - val_loss: 0.4505 - val_accuracy: 0.7830\n",
      "Epoch 18/25\n",
      "250/250 [==============================] - 75s 301ms/step - loss: 0.4407 - accuracy: 0.7961 - val_loss: 0.4478 - val_accuracy: 0.7895\n",
      "Epoch 19/25\n",
      "250/250 [==============================] - 75s 301ms/step - loss: 0.4381 - accuracy: 0.7944 - val_loss: 0.4435 - val_accuracy: 0.7940\n",
      "Epoch 20/25\n",
      "250/250 [==============================] - 75s 301ms/step - loss: 0.4324 - accuracy: 0.7991 - val_loss: 0.4588 - val_accuracy: 0.7855\n",
      "Epoch 21/25\n",
      "250/250 [==============================] - 75s 301ms/step - loss: 0.4301 - accuracy: 0.7984 - val_loss: 0.4447 - val_accuracy: 0.7955\n",
      "Epoch 22/25\n",
      "250/250 [==============================] - 75s 301ms/step - loss: 0.4214 - accuracy: 0.7991 - val_loss: 0.4510 - val_accuracy: 0.7900\n",
      "Epoch 23/25\n",
      "250/250 [==============================] - 75s 301ms/step - loss: 0.4156 - accuracy: 0.8048 - val_loss: 0.4439 - val_accuracy: 0.7920\n",
      "Epoch 24/25\n",
      "250/250 [==============================] - 76s 304ms/step - loss: 0.4083 - accuracy: 0.8111 - val_loss: 0.4740 - val_accuracy: 0.7820\n",
      "Epoch 25/25\n",
      "250/250 [==============================] - 79s 316ms/step - loss: 0.4040 - accuracy: 0.8130 - val_loss: 0.4479 - val_accuracy: 0.7870\n"
     ]
    },
    {
     "data": {
      "text/plain": [
       "<tensorflow.python.keras.callbacks.History at 0x20a8022a148>"
      ]
     },
     "execution_count": 5,
     "metadata": {},
     "output_type": "execute_result"
    }
   ],
   "source": [
    "cnn.fit(x = training_set, validation_data = Val_set, epochs = 25)"
   ]
  },
  {
   "cell_type": "code",
   "execution_count": 9,
   "metadata": {},
   "outputs": [
    {
     "name": "stdout",
     "output_type": "stream",
     "text": [
      "Epoch 1/10\n",
      "250/250 [==============================] - 75s 299ms/step - loss: 0.3911 - accuracy: 0.8205 - val_loss: 0.4321 - val_accuracy: 0.8010\n",
      "Epoch 2/10\n",
      "250/250 [==============================] - 74s 297ms/step - loss: 0.3760 - accuracy: 0.8291 - val_loss: 0.4453 - val_accuracy: 0.8020\n",
      "Epoch 3/10\n",
      "250/250 [==============================] - 74s 298ms/step - loss: 0.3762 - accuracy: 0.8315 - val_loss: 0.4436 - val_accuracy: 0.7900\n",
      "Epoch 4/10\n",
      "250/250 [==============================] - 74s 296ms/step - loss: 0.3709 - accuracy: 0.8359 - val_loss: 0.4271 - val_accuracy: 0.8070\n",
      "Epoch 5/10\n",
      "250/250 [==============================] - 74s 298ms/step - loss: 0.3753 - accuracy: 0.8307 - val_loss: 0.4635 - val_accuracy: 0.8030\n",
      "Epoch 6/10\n",
      "250/250 [==============================] - 74s 296ms/step - loss: 0.3647 - accuracy: 0.8372 - val_loss: 0.4231 - val_accuracy: 0.8045\n",
      "Epoch 7/10\n",
      "250/250 [==============================] - 77s 307ms/step - loss: 0.3610 - accuracy: 0.8400 - val_loss: 0.4519 - val_accuracy: 0.8110\n",
      "Epoch 8/10\n",
      "250/250 [==============================] - 75s 301ms/step - loss: 0.3585 - accuracy: 0.8361 - val_loss: 0.4516 - val_accuracy: 0.8045\n",
      "Epoch 9/10\n",
      "250/250 [==============================] - 75s 300ms/step - loss: 0.3537 - accuracy: 0.8465 - val_loss: 0.4380 - val_accuracy: 0.8035\n",
      "Epoch 10/10\n",
      "250/250 [==============================] - 75s 299ms/step - loss: 0.3455 - accuracy: 0.8472 - val_loss: 0.4423 - val_accuracy: 0.8055\n"
     ]
    },
    {
     "data": {
      "text/plain": [
       "<tensorflow.python.keras.callbacks.History at 0x20a8428a248>"
      ]
     },
     "execution_count": 9,
     "metadata": {},
     "output_type": "execute_result"
    }
   ],
   "source": [
    "cnn.fit(training_set,epochs=10,verbose=1, validation_data=test_set)"
   ]
  },
  {
   "cell_type": "code",
   "execution_count": 10,
   "metadata": {},
   "outputs": [
    {
     "name": "stdout",
     "output_type": "stream",
     "text": [
      "{'cats': 0, 'dogs': 1}\n"
     ]
    }
   ],
   "source": [
    "print(training_set.class_indices)"
   ]
  },
  {
   "cell_type": "code",
   "execution_count": null,
   "metadata": {},
   "outputs": [],
   "source": [
    "Testing on Random Image"
   ]
  },
  {
   "cell_type": "code",
   "execution_count": 16,
   "metadata": {},
   "outputs": [],
   "source": [
    "import numpy as np\n",
    "from keras.preprocessing import image\n",
    "test_image = image.load_img(r'C:\\Users\\TOSHIBA\\Documents\\Practice\\Project to be updated on CV\\Cat Vs Dog\\dataset\\single_prediction\\cat_or_dog_1.jpg', target_size = (64, 64))\n",
    "test_image = image.img_to_array(test_image)\n",
    "test_image = np.expand_dims(test_image, axis = 0)\n",
    "result = cnn.predict(test_image)\n",
    "training_set.class_indices\n",
    "if result[0][0] == 1:\n",
    "  prediction = 'dog'\n",
    "else:\n",
    "  prediction = 'cat'"
   ]
  },
  {
   "cell_type": "code",
   "execution_count": 17,
   "metadata": {},
   "outputs": [
    {
     "name": "stdout",
     "output_type": "stream",
     "text": [
      "dog\n"
     ]
    }
   ],
   "source": [
    "print(prediction)"
   ]
  },
  {
   "cell_type": "code",
   "execution_count": 18,
   "metadata": {},
   "outputs": [
    {
     "name": "stdout",
     "output_type": "stream",
     "text": [
      "WARNING:tensorflow:From C:\\Users\\TOSHIBA\\AppData\\Roaming\\Python\\Python37\\site-packages\\tensorflow\\python\\training\\tracking\\tracking.py:111: Model.state_updates (from tensorflow.python.keras.engine.training) is deprecated and will be removed in a future version.\n",
      "Instructions for updating:\n",
      "This property should not be used in TensorFlow 2.0, as updates are applied automatically.\n",
      "WARNING:tensorflow:From C:\\Users\\TOSHIBA\\AppData\\Roaming\\Python\\Python37\\site-packages\\tensorflow\\python\\training\\tracking\\tracking.py:111: Layer.updates (from tensorflow.python.keras.engine.base_layer) is deprecated and will be removed in a future version.\n",
      "Instructions for updating:\n",
      "This property should not be used in TensorFlow 2.0, as updates are applied automatically.\n",
      "INFO:tensorflow:Assets written to: cnn_catvsdog\\assets\n"
     ]
    }
   ],
   "source": [
    "cnn.save(\"cnn_catvsdog\")"
   ]
  },
  {
   "cell_type": "code",
   "execution_count": null,
   "metadata": {},
   "outputs": [],
   "source": []
  }
 ],
 "metadata": {
  "kernelspec": {
   "display_name": "Python 3",
   "language": "python",
   "name": "python3"
  },
  "language_info": {
   "codemirror_mode": {
    "name": "ipython",
    "version": 3
   },
   "file_extension": ".py",
   "mimetype": "text/x-python",
   "name": "python",
   "nbconvert_exporter": "python",
   "pygments_lexer": "ipython3",
   "version": "3.7.7"
  }
 },
 "nbformat": 4,
 "nbformat_minor": 4
}
